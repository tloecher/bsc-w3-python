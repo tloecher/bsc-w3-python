{
 "metadata": {
  "language_info": {
   "codemirror_mode": {
    "name": "ipython",
    "version": 3
   },
   "file_extension": ".py",
   "mimetype": "text/x-python",
   "name": "python",
   "nbconvert_exporter": "python",
   "pygments_lexer": "ipython3",
   "version": "3.6.8-final"
  },
  "orig_nbformat": 2,
  "kernelspec": {
   "name": "python3",
   "display_name": "Python 3.6.8 64-bit (conda)",
   "metadata": {
    "interpreter": {
     "hash": "4709fe8f347496b81545025d8bc43eac46485a2c808b66a98c800827d47fe60f"
    }
   }
  }
 },
 "nbformat": 4,
 "nbformat_minor": 2,
 "cells": [
  {
   "cell_type": "code",
   "execution_count": 1,
   "metadata": {},
   "outputs": [],
   "source": [
    "from web3.middleware import geth_poa_middleware\n",
    "from web3 import Web3\n",
    "import json\n",
    "import requests\n",
    "\n",
    "## Static data\n",
    "mainnet = '' # get yourself an ankr api key\n",
    "testnet = 'https://data-seed-prebsc-1-s1.binance.org:8545/'\n",
    "\n",
    "# Public keys\n",
    "main_addr = ''\n",
    "test_addr = ''\n",
    "robot_addr = ''\n",
    "\n",
    "# Mainnet vars\n",
    "bscscan_url = 'https://api.bscscan.com/api?module=contract&action=getabi&address='\n",
    "\n",
    "# Contracts\n",
    "egg_addr = '0xf952fc3ca7325cc27d15885d37117676d25bfda6'\n",
    "incubator_addr = '0xA0349A63bC48987B941a91A4d156c05B6bfbd321' # layer 2\n",
    "#incubator_addr = '0x22cC57c9ec341152834F216289A1824d61b47855' # layer 1\n",
    "\n",
    "# Fetch EGG ABI from BSCSCAN\n",
    "response = requests.get(bscscan_url+egg_addr).json()\n",
    "egg_abi = json.loads(response['result'])\n",
    "\n",
    "# Fetch incubator ABI from BSCSCAN\n",
    "response = requests.get(bscscan_url+incubator_addr).json()\n",
    "incubator_abi = json.loads(response['result'])\n",
    "\n",
    "# Robot account\n",
    "with open('robot_account', 'r') as file:\n",
    "    robot_account = file.read()\n",
    "\n",
    "# Pool info keys\n",
    "keys = ('lpToken',\n",
    "'allocPoint',\n",
    "'lastRewardBlock',\n",
    "'accGoosePerShare',\n",
    "'depositFeeBP',\n",
    "'maxDepositAmount',\n",
    "'currentDepositAmount')"
   ]
  },
  {
   "cell_type": "code",
   "execution_count": null,
   "metadata": {},
   "outputs": [],
   "source": [
    "# Connect to network\n",
    "w3 = Web3(Web3.HTTPProvider(mainnet))\n",
    "w3.middleware_onion.inject(geth_poa_middleware, layer=0)\n",
    "\n",
    "print('is connected?',w3.isConnected())"
   ]
  },
  {
   "cell_type": "code",
   "execution_count": 6,
   "metadata": {},
   "outputs": [],
   "source": [
    "## One off data pulls\n",
    "# Incubator contract and pool info\n",
    "inc_contract = w3.eth.contract(Web3.toChecksumAddress(incubator_addr), abi=incubator_abi)\n",
    "\n",
    "# Create EGG contract on mainnet\n",
    "egg_contract = w3.eth.contract(Web3.toChecksumAddress(egg_addr), abi=egg_abi)"
   ]
  },
  {
   "cell_type": "code",
   "execution_count": 7,
   "metadata": {},
   "outputs": [
    {
     "output_type": "stream",
     "name": "stdout",
     "text": [
      "Balances\n",
      "BNB 0.19136875\n",
      "EGG 0.0\n"
     ]
    }
   ],
   "source": [
    "## Dynamic calls\n",
    "\n",
    "print('Balances')\n",
    "print('BNB', float(w3.fromWei(w3.eth.get_balance(robot_addr), 'ether')))\n",
    "\n",
    "# Fetch EGG balance and convert to major units\n",
    "balance_egg = float(w3.fromWei(egg_contract.functions.balanceOf(robot_addr).call(), 'ether'))\n",
    "print('EGG', balance_egg)"
   ]
  },
  {
   "cell_type": "code",
   "execution_count": 9,
   "metadata": {},
   "outputs": [
    {
     "output_type": "stream",
     "name": "stdout",
     "text": [
      "available_deposit 0.03741731277203745\n"
     ]
    },
    {
     "output_type": "execute_result",
     "data": {
      "text/plain": [
       "{'lpToken': '0xF952Fc3ca7325Cc27D15885d37117676d25BfdA6',\n",
       " 'allocPoint': 4000,\n",
       " 'lastRewardBlock': 5612203,\n",
       " 'accGoosePerShare': 196205211163,\n",
       " 'depositFeeBP': 2000,\n",
       " 'maxDepositAmount': 50000000000000000000000,\n",
       " 'currentDepositAmount': 49999962582687227962551}"
      ]
     },
     "metadata": {},
     "execution_count": 9
    }
   ],
   "source": [
    "## Incubator pool info\n",
    "\"\"\"\n",
    "Each incubator has multiple pools, we are only interested in restricted pools.\n",
    "In layer 1 and 2 the highest yielding pool (at inception) was 0.\n",
    "\n",
    "Loop thru all pools\n",
    "\n",
    "for i in range(0,50):\n",
    "    print(i, inc_contract.functions.poolInfo(i).call())\n",
    "\"\"\"\n",
    "\n",
    "pool_info = dict(zip(keys,inc_contract.functions.poolInfo(0).call()))\n",
    "available_deposit = pool_info['maxDepositAmount'] - pool_info['currentDepositAmount']\n",
    "available_deposit = float(w3.fromWei(available_deposit, 'ether'))\n",
    "\n",
    "print('available_deposit', available_deposit)\n",
    "pool_info"
   ]
  },
  {
   "cell_type": "code",
   "execution_count": 12,
   "metadata": {},
   "outputs": [
    {
     "output_type": "execute_result",
     "data": {
      "text/plain": [
       "HexBytes('0x18286eef65c316e4079de38dd9c4f33760a1e5066089548dcf6e94e856d2b7ae')"
      ]
     },
     "metadata": {},
     "execution_count": 12
    }
   ],
   "source": [
    "## Execution\n",
    "# Mainnet (ChainID 0x38, 56 in decimal)\n",
    "\n",
    "pool_id = 1\n",
    "amount_send = w3.toWei(min(balance_egg, available_deposit), 'ether')\n",
    "do_deposit = inc_contract.functions.deposit(pool_id, amount_send).buildTransaction({'chainId': 56, 'gas':250000, 'nonce': w3.eth.getTransactionCount(robot_addr)})\n",
    "\n",
    "# Signing and sending\n",
    "signed_txn = w3.eth.account.signTransaction(do_deposit, robot_account)\n",
    "txn_hash = w3.eth.sendRawTransaction(signed_txn.rawTransaction)\n",
    "txn_hash"
   ]
  },
  {
   "cell_type": "code",
   "execution_count": 37,
   "metadata": {},
   "outputs": [
    {
     "output_type": "execute_result",
     "data": {
      "text/plain": [
       "HexBytes('0x0d04b0f69f31a4955cd29d3de920c2ab7785a3c693ce313322a21b3863082d6c')"
      ]
     },
     "metadata": {},
     "execution_count": 37
    }
   ],
   "source": [
    "## Approve contract\n",
    "\n",
    "# Before first deposit into pool we have to approve contract to transfer EGG (or whatever token) on behalf of our address\n",
    "# Convention is to approve the maximum possible amount for uint256 which is more easily done in hex\n",
    "\n",
    "approve_amount = 0xffffffffffffffffffffffffffffffffffffffffffffffffffffffffffffffff # w3.toWei(float(1.157920892373162e+59), 'ether')\n",
    "\n",
    "approve = egg_contract.functions.approve(incubator_addr, approve_amount).buildTransaction({'chainId': 56, 'gas':100000, 'nonce': w3.eth.getTransactionCount(robot_addr)})\n",
    "\n",
    "# Signing and sending\n",
    "signed_txn = w3.eth.account.signTransaction(approve, robot_account)\n",
    "txn_hash = w3.eth.sendRawTransaction(signed_txn.rawTransaction)\n",
    "txn_hash"
   ]
  },
  {
   "cell_type": "code",
   "execution_count": null,
   "metadata": {},
   "outputs": [],
   "source": []
  }
 ]
}